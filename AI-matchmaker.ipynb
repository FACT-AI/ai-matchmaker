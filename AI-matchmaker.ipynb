{
 "cells": [
  {
   "cell_type": "markdown",
   "metadata": {},
   "source": [
    "# AI-matchmaker: Algorithmic Sexism"
   ]
  },
  {
   "cell_type": "markdown",
   "metadata": {},
   "source": [
    "---"
   ]
  },
  {
   "cell_type": "markdown",
   "metadata": {},
   "source": [
    "### Introduction\n",
    "\n",
    "Automation has been key to Amazon's dominance, be it inside logistics, marketing or driving pricing decisions. In 2014 Amazon started working on building an Artificial Intelligence (AI) tool to help hiring candidates. In order to search for top talent, the team of Amazon built a computer program which review a job applicant's resume on a scale from one to five stars. The idea was simple: we give the algorithm 100 resumes as input and it will spit out the top five and we will hire those candidates. \n",
    "\n",
    "By 2015, however, the engineers noticed that the program was not treating candidates in a gender-neutral way.\n",
    "In the beginning of 2017 the project was reportedly abandoned after executives lost faith in it. Although the company claims it never actually used the algorithm to evaluate candidates, it offers a case study where the risks of Artificial Intelligence (AI) are painfully exposed.\n",
    "\n",
    "Last years there has been a burst in awareness for the need to create responsible AI. That is, AI that can be understood and explained, is fair and acceptable. As responsible AI is one the hottest topics in machine learning, more and more tools are becoming available that can, for example, help us create fair algorithms from biased data. <br> <br>\n",
    "At VIQTOR DAVIS we encounter many datasets from numerous different business cases. As data scientists using machine learning and artificial intelligence on a daily basis, dataset bias is an issue that we need to tackle in (almost) every project.\n",
    "Based on our experience and expertise we have developed a standardized approach to measure and mitigate fairness in AI solutions. \n",
    "\n",
    "As part of this framework we wrote this article, where we provide an example of our experience dealing with unfairness in AI. Specifically, we present a case study where an unfair model can arise from a (seemingly harmless) inequality that exists in contemporary society. In this case study the following questions will be addressed:\n",
    "- How can we detect unfair models?\n",
    "- How can we quantify the unfairness?\n",
    "- How can we overcome the problem of unfairness?\n",
    "<br> <br>\n",
    "\n",
    "_Disclaimer: <br>\n",
    "The case study presented in this article is purely hypothetical and the used dataset was artificially constructed to serve the purposes of this project._"
   ]
  },
  {
   "cell_type": "markdown",
   "metadata": {},
   "source": [
    " <br>"
   ]
  },
  {
   "cell_type": "markdown",
   "metadata": {},
   "source": [
    "### Case study\n",
    "\n",
    "Imagine we are founders of some hypothetical Data Science company, who experienced an immense growth over the last years. \n",
    "To keep up with this growth, five full time recruiters were employed, spending a lot of time scanning CV's whether a candidate is suitable to work as a Data Scientist. \n",
    "Given the high recruitment costs and the fear for human biases, we plan to use data and algorithms to automate the HR recruitment process. \n",
    "We will train a recruitment bot, which can than take a resume, extract all relevant information, and spit out a score  based on his/her competences.\n",
    "This provides a shortlist of suitable candidates and helps us decide whether to invite a candidate or not. \n",
    "To train the model we need to gather a lot of data, since the model needs to be \"fed\" with all kinds of input to capture as much information as possible.\n",
    "\n",
    "\n",
    "In order to do so we gathered the resumes of 3,000 students who graduated last year. To train the model well, we ensured the training data consisted of resumes of students with different backgrounds and competences. \n",
    "Say that we manually assigned a score to each resume fully based on competences. We simply asked our recruiters to what degree they think the student is suitable for being a data scientist. Our recruiters mainly look at the studyfield being relevant and whether the students speaks english fluently. Also, the student has an edge when having high grades. When each candidate is manually scored by the recruiters, this score is used to label whether the candiate is considered suitable or not. \n",
    "If the candidate is considered suitable he/she will be invited for an interview. This denotes the target variable for this case study.\n",
    "\n",
    "The goal of this article is to show how it is possible for an algorithm to become unfair if a certain group has more suitable candidates than the other group. \n",
    "In this case we are aiming for students with a quantitative background. \n",
    "And that's where the discrepancy comes in. <br>\n",
    "We must realise good candidates (i.e. students with a quantitative background) are not equally dispersed among protected groups. \n",
    "In the Netherlands we find that men are overrepresented in technical studies, while women are more likely to choose a social study. \n",
    "For example, 80% of the science students at the UvA is male, while only 30% of the Psychology students consist of men (www.uva.nl).\n",
    "\n",
    "\n",
    "##### Import requirements\n",
    "As with many Python projects we start with importing the necessary packages. Next to the packages that all you data scientists already know and love, we will also use two packages in order to assess fairness and evaluate models:\n",
    "- Aequitas: a flexible bias-audit utility for algorithmic decision-making models. We will use it to evaluate model performance across several bias and fairness metrics.\n",
    "- Aif360: fairness toolkit, which provides algorithms to mititage bias in datasets and algorithms."
   ]
  },
  {
   "cell_type": "code",
   "execution_count": 1,
   "metadata": {},
   "outputs": [],
   "source": [
    "import pandas as pd \n",
    "import numpy as np \n",
    "import statsmodels.api as sm\n",
    "import random\n",
    "import seaborn as sns\n",
    "\n",
    "from sklearn.linear_model import LogisticRegression\n",
    "from sklearn.model_selection import train_test_split\n",
    "from sklearn.utils import shuffle\n",
    "\n",
    "from aequitas.group import Group\n",
    "from aequitas.bias import Bias\n",
    "from aequitas.fairness import Fairness\n",
    "from aequitas.plotting import Plot\n",
    "\n",
    "from aif360.metrics import BinaryLabelDatasetMetric\n",
    "from aif360.algorithms.preprocessing import Reweighing\n",
    "\n",
    "import matplotlib.pyplot as plt\n",
    "%matplotlib inline\n",
    "\n",
    "np.random.seed(31)"
   ]
  },
  {
   "cell_type": "markdown",
   "metadata": {},
   "source": [
    "##### Dataset simulation\n",
    "\n",
    "_Disclaimer: the dataset for this case study is artificially created and is supposed to reflect a random group of graduated students from a university in the Netherlands. Gender disparity among studies are based on numbers of the university of Amsterdam. We took these numbers from www.uva.nl, where the ratio male - female is provided for each study._\n",
    "\n",
    "<br>\n",
    "\n",
    "As the code for the dataset simulation is relatively long, the dataset is loaded into memory directly. The code for the dataset simulation will be included in the Appendix. The following variables are included:\n",
    "- Gender\n",
    "- Studyfield\n",
    "- Education\n",
    "- Ethnicity\n",
    "- Exchange\n",
    "- Highschool\n",
    "- Nationality\n",
    "- Grade\n",
    "- English\n",
    "\n",
    "\n",
    "Since we want to be fair, the variables 'Education', 'Studyfield', 'Grade' and 'English' determine the probability to be selected by a recruiter. This means each individual $i$ has a probability $p_{i}$ to be invited for an interview. These probabilities are used within a Bernoulli distribution, $B(1,p_{i})$, to construct the target variable $y_{i} \\in \\{0,1\\}$. This means we draw from 3,000 different Bernoulli distributions, where the parameter $p_{i}$ differs among candidates. As the target variable denotes whether the candidate was selected by the recruiter, this setup ensures students with poor profiles can still be selected, while students with suiting profiles can be neglected.\n",
    "\n",
    "As our recruiters mainly focus on competences, the variable studyfield is a good predictor when determining whether the candidate is suitable. And here comes the point: there are simply more male candidates fitting this profile then female ones. \n",
    "This societal discrepancy is something we can't change in the data. \n",
    "But we need to be aware the model correctly learns from the education component and not inadvertently learns that sex itself determines whether we should invite a candidate for an interview or not. Especially when these (biased) models are involved in decision-making processes (which for example determine access to employment, education, social protection, supply of services) and involve certain protected classes (like gender, race, ethnicity) this requires a cautious approach. The first step in this process is to be aware of the dataset bias we are facing here.\n",
    "Once we're aware of what we're facing, our next step will be to mitigate the problem.\n"
   ]
  },
  {
   "cell_type": "code",
   "execution_count": 2,
   "metadata": {},
   "outputs": [
    {
     "data": {
      "text/html": [
       "<div>\n",
       "<style scoped>\n",
       "    .dataframe tbody tr th:only-of-type {\n",
       "        vertical-align: middle;\n",
       "    }\n",
       "\n",
       "    .dataframe tbody tr th {\n",
       "        vertical-align: top;\n",
       "    }\n",
       "\n",
       "    .dataframe thead th {\n",
       "        text-align: right;\n",
       "    }\n",
       "</style>\n",
       "<table border=\"1\" class=\"dataframe\">\n",
       "  <thead>\n",
       "    <tr style=\"text-align: right;\">\n",
       "      <th></th>\n",
       "      <th>Gender</th>\n",
       "      <th>Nationality</th>\n",
       "      <th>Education</th>\n",
       "      <th>Age</th>\n",
       "      <th>Highschool</th>\n",
       "      <th>Studyfield</th>\n",
       "      <th>Ethnicity</th>\n",
       "      <th>Exchange</th>\n",
       "      <th>Grade</th>\n",
       "      <th>English</th>\n",
       "      <th>Prob</th>\n",
       "      <th>Target</th>\n",
       "    </tr>\n",
       "  </thead>\n",
       "  <tbody>\n",
       "    <tr>\n",
       "      <td>1006</td>\n",
       "      <td>F</td>\n",
       "      <td>Dutch</td>\n",
       "      <td>Master</td>\n",
       "      <td>25</td>\n",
       "      <td>VWO</td>\n",
       "      <td>Business</td>\n",
       "      <td>Black</td>\n",
       "      <td>No</td>\n",
       "      <td>7.0</td>\n",
       "      <td>C</td>\n",
       "      <td>0.10</td>\n",
       "      <td>0</td>\n",
       "    </tr>\n",
       "    <tr>\n",
       "      <td>775</td>\n",
       "      <td>M</td>\n",
       "      <td>Belgium</td>\n",
       "      <td>Bachelor</td>\n",
       "      <td>26</td>\n",
       "      <td>VWO</td>\n",
       "      <td>Math</td>\n",
       "      <td>Black</td>\n",
       "      <td>No</td>\n",
       "      <td>7.0</td>\n",
       "      <td>B</td>\n",
       "      <td>0.30</td>\n",
       "      <td>0</td>\n",
       "    </tr>\n",
       "    <tr>\n",
       "      <td>394</td>\n",
       "      <td>F</td>\n",
       "      <td>Dutch</td>\n",
       "      <td>Master</td>\n",
       "      <td>24</td>\n",
       "      <td>VWO</td>\n",
       "      <td>Linguistics</td>\n",
       "      <td>Asian</td>\n",
       "      <td>No</td>\n",
       "      <td>8.5</td>\n",
       "      <td>B</td>\n",
       "      <td>0.05</td>\n",
       "      <td>0</td>\n",
       "    </tr>\n",
       "    <tr>\n",
       "      <td>1361</td>\n",
       "      <td>F</td>\n",
       "      <td>Dutch</td>\n",
       "      <td>Master</td>\n",
       "      <td>29</td>\n",
       "      <td>VWO</td>\n",
       "      <td>Business</td>\n",
       "      <td>White</td>\n",
       "      <td>Yes</td>\n",
       "      <td>6.0</td>\n",
       "      <td>B</td>\n",
       "      <td>0.10</td>\n",
       "      <td>0</td>\n",
       "    </tr>\n",
       "    <tr>\n",
       "      <td>583</td>\n",
       "      <td>M</td>\n",
       "      <td>Dutch</td>\n",
       "      <td>Master</td>\n",
       "      <td>23</td>\n",
       "      <td>VWO</td>\n",
       "      <td>Business</td>\n",
       "      <td>Asian</td>\n",
       "      <td>No</td>\n",
       "      <td>8.5</td>\n",
       "      <td>B</td>\n",
       "      <td>0.15</td>\n",
       "      <td>0</td>\n",
       "    </tr>\n",
       "  </tbody>\n",
       "</table>\n",
       "</div>"
      ],
      "text/plain": [
       "     Gender Nationality Education  Age Highschool   Studyfield Ethnicity  \\\n",
       "1006      F       Dutch    Master   25        VWO     Business     Black   \n",
       "775       M     Belgium  Bachelor   26        VWO         Math     Black   \n",
       "394       F       Dutch    Master   24        VWO  Linguistics     Asian   \n",
       "1361      F       Dutch    Master   29        VWO     Business     White   \n",
       "583       M       Dutch    Master   23        VWO     Business     Asian   \n",
       "\n",
       "     Exchange  Grade English  Prob  Target  \n",
       "1006       No    7.0       C  0.10       0  \n",
       "775        No    7.0       B  0.30       0  \n",
       "394        No    8.5       B  0.05       0  \n",
       "1361      Yes    6.0       B  0.10       0  \n",
       "583        No    8.5       B  0.15       0  "
      ]
     },
     "execution_count": 2,
     "metadata": {},
     "output_type": "execute_result"
    }
   ],
   "source": [
    "df = pd.read_csv(r'C:\\Users\\Jasper Rouschop\\Documents\\Internal Projects\\Project Albatros\\Case study - AI Recruiter\\student_dataset.csv', index_col = 0)\n",
    "df.head()"
   ]
  },
  {
   "cell_type": "markdown",
   "metadata": {},
   "source": [
    "##### Data exploration\n",
    "The data is loaded. To get an idea what the data looks like, we will first do some data exploration. We will also investigate how the outcome (a dummy variable whether the candidate was invited) is dispersed with the variables. This allows us to get an idea which variables are most important. An easy way to start is using the 'describe' method, which describes the numeric variables in terms of count, mean, variance and some other percentile metrics. Let's see how this looks for the outcome variable."
   ]
  },
  {
   "cell_type": "code",
   "execution_count": 3,
   "metadata": {},
   "outputs": [
    {
     "data": {
      "text/plain": [
       "count    3000.000000\n",
       "mean        0.174333\n",
       "std         0.379459\n",
       "min         0.000000\n",
       "25%         0.000000\n",
       "50%         0.000000\n",
       "75%         0.000000\n",
       "max         1.000000\n",
       "Name: Target, dtype: float64"
      ]
     },
     "execution_count": 3,
     "metadata": {},
     "output_type": "execute_result"
    }
   ],
   "source": [
    "df['Target'].describe()"
   ]
  },
  {
   "cell_type": "markdown",
   "metadata": {},
   "source": [
    "From this we conclude approximately 17.4% of the candidates was selected for an interview. \n",
    "\n",
    "The following countplots demonstrate how categories of the variables in our dataset are dispersed. In this figure all counts of the variables in the dataset are provided. Recall the total number of students is 3,000."
   ]
  },
  {
   "cell_type": "code",
   "execution_count": 4,
   "metadata": {},
   "outputs": [
    {
     "data": {
      "text/plain": [
       "<matplotlib.axes._subplots.AxesSubplot at 0x1b3b6af1e88>"
      ]
     },
     "execution_count": 4,
     "metadata": {},
     "output_type": "execute_result"
    },
    {
     "data": {
      "image/png": "[encoded data removed]",
      "text/plain": [
       "<Figure size 1080x1440 with 10 Axes>"
      ]
     },
     "metadata": {
      "needs_background": "light"
     },
     "output_type": "display_data"
    }
   ],
   "source": [
    "f, axes = plt.subplots(5, 2, figsize=(15, 20))\n",
    "sns.countplot(x = 'Education', data = df, ax=axes[0, 0], palette = 'hls')\n",
    "sns.countplot(x = 'Grade', data = df, ax=axes[1, 0], palette = 'hls')\n",
    "sns.countplot(x = 'English', data = df, ax=axes[0, 1], palette = 'hls')\n",
    "sns.countplot(x = 'Studyfield', data = df, ax=axes[1, 1], palette = 'hls')\n",
    "sns.countplot(x = 'Gender', data = df, ax=axes[2, 0], palette = 'hls')\n",
    "sns.countplot(x = 'Nationality', data = df, ax=axes[2, 1], palette = 'hls')\n",
    "sns.countplot(x = 'Highschool', data = df, ax=axes[3, 0], palette = 'hls')\n",
    "sns.countplot(x = 'Ethnicity', data = df, ax=axes[3, 1], palette = 'hls')\n",
    "sns.countplot(x = 'Exchange', data = df, ax=axes[4, 0], palette = 'hls')\n",
    "sns.countplot(x = 'Age', data = df, ax=axes[4, 1], palette = 'hls')"
   ]
  },
  {
   "cell_type": "markdown",
   "metadata": {},
   "source": [
    "Now that we have an idea of the variables there are in our dataset and what values they can attain, we can investigate how they relate with the outcome. To do so, we can simply go through all variables and check whether there are some (visually) outstanding subgroups in terms of invited candidates. \n",
    "\n",
    "We will go through all variables one by one and compare the proportion of invited candidates among subgroups. If there are large differences, the variable might be important for predicting whether a candidate suits the job. "
   ]
  },
  {
   "cell_type": "markdown",
   "metadata": {},
   "source": [
    "__Nationality:__<br>\n",
    "Shows the nationality of the student. Considering the countplots, the only notable difference is between Belgian and German candidates."
   ]
  },
  {
   "cell_type": "code",
   "execution_count": 5,
   "metadata": {},
   "outputs": [
    {
     "data": {
      "text/plain": [
       "<seaborn.axisgrid.FacetGrid at 0x1b3b72d0508>"
      ]
     },
     "execution_count": 5,
     "metadata": {},
     "output_type": "execute_result"
    },
    {
     "data": {
      "image/png": "[encoded data removed]",
      "text/plain": [
       "<Figure size 540x360 with 1 Axes>"
      ]
     },
     "metadata": {
      "needs_background": "light"
     },
     "output_type": "display_data"
    }
   ],
   "source": [
    "sns.catplot(x=\"Nationality\", y=\"Target\", kind=\"bar\", data=df, ci = None, aspect = 1.5, saturation = 0.5)"
   ]
  },
  {
   "cell_type": "markdown",
   "metadata": {},
   "source": [
    "__Education:__<br>\n",
    "Shows the highest level of education the student has finished. \n",
    "Clearly this is an important variable for predicting whether the candidate was invited. Apparently, recruiters found Master and PhD students more suitable than students who only finished a Bachelor."
   ]
  },
  {
   "cell_type": "code",
   "execution_count": 6,
   "metadata": {},
   "outputs": [
    {
     "data": {
      "text/plain": [
       "<seaborn.axisgrid.FacetGrid at 0x1b3b6671f08>"
      ]
     },
     "execution_count": 6,
     "metadata": {},
     "output_type": "execute_result"
    },
    {
     "data": {
      "image/png": "[encoded data removed]",
      "text/plain": [
       "<Figure size 540x360 with 1 Axes>"
      ]
     },
     "metadata": {
      "needs_background": "light"
     },
     "output_type": "display_data"
    }
   ],
   "source": [
    "sns.catplot(x=\"Education\", y=\"Target\", kind=\"bar\", data=df, ci = None, aspect = 1.5)"
   ]
  },
  {
   "cell_type": "markdown",
   "metadata": {},
   "source": [
    "__Age__:<br>\n",
    "Shows age of the student.\n",
    "It seems more or less the same amount of candidates are contacted from different ages. Since there are no notable outliers for specific age groups, this variable is probably not that important for predicting the target."
   ]
  },
  {
   "cell_type": "code",
   "execution_count": 7,
   "metadata": {},
   "outputs": [
    {
     "data": {
      "text/plain": [
       "<seaborn.axisgrid.FacetGrid at 0x1b3b6cb1d08>"
      ]
     },
     "execution_count": 7,
     "metadata": {},
     "output_type": "execute_result"
    },
    {
     "data": {
      "image/png": "[encoded data removed]",
      "text/plain": [
       "<Figure size 540x360 with 1 Axes>"
      ]
     },
     "metadata": {
      "needs_background": "light"
     },
     "output_type": "display_data"
    }
   ],
   "source": [
    "sns.catplot(x=\"Age\", y=\"Target\", kind=\"bar\", data=df, ci = None, aspect = 1.5, saturation = 0.5)"
   ]
  },
  {
   "cell_type": "markdown",
   "metadata": {},
   "source": [
    "__Highschool:__<br>\n",
    "Shows the high school degree the student finished. For all you non-dutchies: VWO gives you immediate access to university, while HAVO and VMBO students have to follow an alternative path.\n",
    "The proportions of invited candidates are distributed the same among high school subgroups. Therefore this variable is probably not that important for predicting the outcome."
   ]
  },
  {
   "cell_type": "code",
   "execution_count": 8,
   "metadata": {},
   "outputs": [
    {
     "data": {
      "text/plain": [
       "<seaborn.axisgrid.FacetGrid at 0x1b3b6d37b48>"
      ]
     },
     "execution_count": 8,
     "metadata": {},
     "output_type": "execute_result"
    },
    {
     "data": {
      "image/png": "[encoded data removed]",
      "text/plain": [
       "<Figure size 540x360 with 1 Axes>"
      ]
     },
     "metadata": {
      "needs_background": "light"
     },
     "output_type": "display_data"
    }
   ],
   "source": [
    "sns.catplot(x=\"Highschool\", y=\"Target\", kind=\"bar\", data=df, ci = None, aspect = 1.5, saturation = 0.5)"
   ]
  },
  {
   "cell_type": "markdown",
   "metadata": {},
   "source": [
    "__Studyfield:__<br>\n",
    "Over 30% of the science and math students were considered good candidates and were selected for an interview. The proportion of invited candidates from other studies was around 5% - 10%. As we would expect, this variable is quite important in determining whether a candidate is invited for an interview or not."
   ]
  },
  {
   "cell_type": "code",
   "execution_count": 9,
   "metadata": {},
   "outputs": [
    {
     "data": {
      "text/plain": [
       "<seaborn.axisgrid.FacetGrid at 0x1b3b6d93808>"
      ]
     },
     "execution_count": 9,
     "metadata": {},
     "output_type": "execute_result"
    },
    {
     "data": {
      "image/png": "[encoded data removed]",
      "text/plain": [
       "<Figure size 540x360 with 1 Axes>"
      ]
     },
     "metadata": {
      "needs_background": "light"
     },
     "output_type": "display_data"
    }
   ],
   "source": [
    "sns.catplot(x=\"Studyfield\", y=\"Target\", kind=\"bar\", data=df, ci = None, aspect = 1.5, saturation = 0.5)"
   ]
  },
  {
   "cell_type": "markdown",
   "metadata": {},
   "source": [
    "__Exchange:__<br>\n",
    "This variable describes whether a student went on exchange during his study. Although the difference seems negligible, we invited slightly more students who went on exchange. "
   ]
  },
  {
   "cell_type": "code",
   "execution_count": 10,
   "metadata": {},
   "outputs": [
    {
     "data": {
      "text/plain": [
       "<seaborn.axisgrid.FacetGrid at 0x1b3b6e2fb48>"
      ]
     },
     "execution_count": 10,
     "metadata": {},
     "output_type": "execute_result"
    },
    {
     "data": {
      "image/png": "[encoded data removed]",
      "text/plain": [
       "<Figure size 540x360 with 1 Axes>"
      ]
     },
     "metadata": {
      "needs_background": "light"
     },
     "output_type": "display_data"
    }
   ],
   "source": [
    "sns.catplot(x=\"Exchange\", y=\"Target\", kind=\"bar\", data=df, ci = None, aspect = 1.5, saturation = 0.5)"
   ]
  },
  {
   "cell_type": "markdown",
   "metadata": {},
   "source": [
    "__Grade:__<br>\n",
    "An important variable whether a student was invited for an interview was the grade the student graduated with. Students with high grades (7.5 - 10) were contacted relatively more than students with lower grades (6.0 - 7.0)."
   ]
  },
  {
   "cell_type": "code",
   "execution_count": 11,
   "metadata": {},
   "outputs": [
    {
     "data": {
      "text/plain": [
       "<seaborn.axisgrid.FacetGrid at 0x1b3b6e9ea08>"
      ]
     },
     "execution_count": 11,
     "metadata": {},
     "output_type": "execute_result"
    },
    {
     "data": {
      "image/png": "[encoded data removed]",
      "text/plain": [
       "<Figure size 540x360 with 1 Axes>"
      ]
     },
     "metadata": {
      "needs_background": "light"
     },
     "output_type": "display_data"
    }
   ],
   "source": [
    "sns.catplot(x=\"Grade\", y=\"Target\", kind=\"bar\", data=df, ci = None, aspect = 1.5, saturation = 0.5)"
   ]
  },
  {
   "cell_type": "markdown",
   "metadata": {},
   "source": [
    "__English:__<br>\n",
    "This variable denotes the english proficiency level of the student. As you can see, students with proficiency level B or C were almost 3 times more likely to be contacted than students with proficiency level A. It seems a low english proficiency level was a no-go for the company. "
   ]
  },
  {
   "cell_type": "code",
   "execution_count": 12,
   "metadata": {},
   "outputs": [
    {
     "data": {
      "text/plain": [
       "<seaborn.axisgrid.FacetGrid at 0x1b3b6eea708>"
      ]
     },
     "execution_count": 12,
     "metadata": {},
     "output_type": "execute_result"
    },
    {
     "data": {
      "image/png": "[encoded data removed]",
      "text/plain": [
       "<Figure size 540x360 with 1 Axes>"
      ]
     },
     "metadata": {
      "needs_background": "light"
     },
     "output_type": "display_data"
    }
   ],
   "source": [
    "sns.catplot(x=\"English\", y=\"Target\", kind=\"bar\", data=df, ci = None, aspect = 1.5, saturation = 0.5)"
   ]
  },
  {
   "cell_type": "markdown",
   "metadata": {},
   "source": [
    "So far there are four variables showing great discrepancy in the outcome, meaning they are potentially important for predicting whether a candidate should be selected. These are; English, Studyfield, Education and Grade. It seems reasonable to judge a candidate on these variables. Let's look how the outcome is dispersed with some protected classes like sex and ethnicity."
   ]
  },
  {
   "cell_type": "markdown",
   "metadata": {},
   "source": [
    "__Gender:__<br>\n",
    "Wow! Looking at these graph it looks like gender might be a good predictor when determining whether a candidate is suitable. \n",
    "From the male candidates approximately 25% was contacted, while only +/-12% of the female candidates was sent an invite. "
   ]
  },
  {
   "cell_type": "code",
   "execution_count": 13,
   "metadata": {},
   "outputs": [
    {
     "data": {
      "text/plain": [
       "<seaborn.axisgrid.FacetGrid at 0x1b3b6e9e7c8>"
      ]
     },
     "execution_count": 13,
     "metadata": {},
     "output_type": "execute_result"
    },
    {
     "data": {
      "image/png": "[encoded data removed]",
      "text/plain": [
       "<Figure size 540x360 with 1 Axes>"
      ]
     },
     "metadata": {
      "needs_background": "light"
     },
     "output_type": "display_data"
    }
   ],
   "source": [
    "sns.catplot(x=\"Gender\", y=\"Target\", kind=\"bar\", data=df, ci = None, aspect = 1.5, saturation = 0.5)"
   ]
  },
  {
   "cell_type": "markdown",
   "metadata": {},
   "source": [
    "__Ethnicity:__<br>\n",
    "Gender seems problematic and we should be really cautious when using this variable in our algorithm. Luckily ethnicity seems fine. It seems (approximately) the same percentage of each ethnicity group was selected. We can worry a bit less asbout this variable!"
   ]
  },
  {
   "cell_type": "code",
   "execution_count": 14,
   "metadata": {},
   "outputs": [
    {
     "data": {
      "text/plain": [
       "<seaborn.axisgrid.FacetGrid at 0x1b3b6eea108>"
      ]
     },
     "execution_count": 14,
     "metadata": {},
     "output_type": "execute_result"
    },
    {
     "data": {
      "image/png": "[encoded data removed]",
      "text/plain": [
       "<Figure size 540x360 with 1 Axes>"
      ]
     },
     "metadata": {
      "needs_background": "light"
     },
     "output_type": "display_data"
    }
   ],
   "source": [
    "sns.catplot(x=\"Ethnicity\", y=\"Target\", kind=\"bar\", data=df, ci = None, aspect = 1.5, saturation = 0.5)"
   ]
  },
  {
   "cell_type": "markdown",
   "metadata": {},
   "source": [
    "##### Data Cleaning \n",
    "In order to train our AI-matchmaker we will use logistic regression. Logistic regression is a machine learning model that uses a logistic function to model a binary dependent variable. Although there are better models in terms of performance (a.o. boosting methods, random forest, deep neural networks), logistic regression provides coefficients which are very easy to interpret. In the blink of an eye one can see the degree in which a variable contributes to the model. As this is an important feature for demonstration purposes, logistic regression is used here.\n",
    "\n",
    "Logistic regression requires the predictors to be numerical, so we need to pre-process the categorical variables into numeric dummy variables before applying the model. When dummy-encoding a categorical variable we need to ensure one category is omitted, in order to avoid perfect collinearrity. Let's construct a function to do so!"
   ]
  },
  {
   "cell_type": "code",
   "execution_count": 15,
   "metadata": {},
   "outputs": [],
   "source": [
    "def dummy_encode(df, cat_vars):\n",
    "    for var in cat_vars:\n",
    "        tj = pd.get_dummies(df[var], prefix = var)\n",
    "        tj.drop(tj.columns[len(tj.columns)-1], axis = 1, inplace = True) # Throw away last column to prevent perfect collinearity\n",
    "        df = pd.concat([df, tj], axis=1, sort=False)\n",
    "\n",
    "\n",
    "    columns = df.columns.tolist()\n",
    "    cols_to_keep = [i for i in columns if i not in cat_vars]\n",
    "    df = df[cols_to_keep]\n",
    "    return df"
   ]
  },
  {
   "cell_type": "markdown",
   "metadata": {},
   "source": [
    "We also need to evaluate our model. Remember, we manually evaluated 3,000 students' resumes to decide whether to invite them for an interview or not.\n",
    "Now, we are going to use this information to feed our AI-matchmaker and automate the process. Therefore, we also need to validate our model. This requires us to split the features (X) from the target (y) and create a training and test set. We choose 60% of our data to train our model. This means 2,400 rows of data are used to \"feed\" the model, teaching our AI-matchmaker what information to look for when deciding to recommend a candidate or not. The other 40% of data is set aside as test set and is used to validate our predictions."
   ]
  },
  {
   "cell_type": "code",
   "execution_count": 16,
   "metadata": {},
   "outputs": [],
   "source": [
    "y = df['Target']\n",
    "X = df[df.columns.difference(['Target'])]\n",
    "\n",
    "X_train, X_test, y_train, y_test = train_test_split(X, y, test_size = 0.4)"
   ]
  },
  {
   "cell_type": "markdown",
   "metadata": {},
   "source": [
    "##### Constructing the model\n",
    "\n",
    "We are going to use the training data to construct a logistic regression model. This model considers the in- and output and based on the input variables finds a function that best predicts whether the candidate whether the candidate is suitable and thus should be invited for an interview. When this model is fully trained, we can provide the model with new input and it will return us a probability the candidate is suitable for the job. This probability can be used to make a decision: invite the candidate, or not."
   ]
  },
  {
   "cell_type": "code",
   "execution_count": 17,
   "metadata": {},
   "outputs": [],
   "source": [
    "sel_cols = ['Gender', 'Nationality', 'Education', 'Age', 'Highschool',\n",
    "            'Ethnicity', 'Exchange', 'Grade', 'English', 'Studyfield'] \n",
    "cat_vars = ['Gender', 'Nationality', 'Education', 'Highschool',\n",
    "            'Ethnicity', 'Exchange', 'English', 'Studyfield']\n",
    "\n",
    "X_train_logit = dummy_encode(X_train[sel_cols], cat_vars)\n",
    "X_test_logit = dummy_encode(X_test[sel_cols], cat_vars)\n",
    "y_train_logit = y_train\n",
    "y_test_logit = y_test"
   ]
  },
  {
   "cell_type": "markdown",
   "metadata": {},
   "source": [
    "In the following chunk of code we both train the model and obtain the predictions. Training the model yields us to see the coefficient estimates. We can use the p-value to determine whether the coefficient estimate is significantly different from zero. For this we will use the 5% significance level. This means a variable is said to have a significant effect on the outcome if the associated p-value, $P>|Z|$, is smaller than 0.05. The predictions can be used later to evaluate the model. We added a vector to deal with unbalanced outcomes."
   ]
  },
  {
   "cell_type": "code",
   "execution_count": 18,
   "metadata": {},
   "outputs": [
    {
     "name": "stdout",
     "output_type": "stream",
     "text": [
      "Optimization terminated successfully.\n",
      "         Current function value: 0.405643\n",
      "         Iterations 7\n"
     ]
    },
    {
     "name": "stderr",
     "output_type": "stream",
     "text": [
      "C:\\Users\\Jasper Rouschop\\Anaconda3\\lib\\site-packages\\numpy\\core\\fromnumeric.py:2389: FutureWarning: Method .ptp is deprecated and will be removed in a future version. Use numpy.ptp instead.\n",
      "  return ptp(axis=axis, out=out, **kwargs)\n",
      "C:\\Users\\Jasper Rouschop\\Anaconda3\\lib\\site-packages\\sklearn\\linear_model\\logistic.py:432: FutureWarning: Default solver will be changed to 'lbfgs' in 0.22. Specify a solver to silence this warning.\n",
      "  FutureWarning)\n"
     ]
    }
   ],
   "source": [
    "# Training model\n",
    "logit_model = sm.Logit(y_train_logit, sm.add_constant(X_train_logit))\n",
    "result = logit_model.fit()\n",
    "result.summary2()\n",
    "\n",
    "# Predictions - test set\n",
    "weights = {0: len(y_train_logit) / (2 * (len(y_train_logit) - y_train_logit.sum())), 1: len(y_train_logit) / (2 * y_train_logit.sum())}       \n",
    "logreg = LogisticRegression(class_weight = weights)\n",
    "logreg.fit(X_train_logit, y_train_logit)\n",
    "y_pred = logreg.predict(X_test_logit)"
   ]
  },
  {
   "cell_type": "markdown",
   "metadata": {},
   "source": [
    "Considering the p-values of this logistic regression we see all variables about Grade, Education, Studyfield and English are significant. This is not surprising, since these variables were used to score the candidates. Although we are completely sure these are the only variables used in deciding whether a candidates obtains an invitation, we also see that in our model the variable 'Gender_F' is significant. \n",
    "With a p-value smaller than 0.05 and the 'Gender_F' coefficient being negative, our model finds female candidates have significantly lower probability being a good candidate. Houston we have a problem..."
   ]
  },
  {
   "cell_type": "markdown",
   "metadata": {},
   "source": [
    "##### Discriminatory problem\n",
    "\n",
    "Imagine how harmful our AI-recruiter would be if it uses this information to score new candidates. Imagine our AI-recruiter considering two equal resumes, with the only difference being gender, and it would always give the male candidate a higher score than the female candidate. Most would agree that this situation is very unfair, not to mention against the law! We don’t want a male candidate to have a greater chance to be invited than his identical female twin who is just as good in terms of competences. However, that is exactly what is happening here. And the reason is simple: the model \"learned\" from the data that 'Gender' is a good variable to look at when predicting whether a (human) recruiter would have invited the candidate. The model does not take context into consideration, it is only interested in \"having it right\" most of the times.\n",
    "\n",
    "So how did discrimination creep into our model? Why is some of the variance still unexplained, even after adding the studyfield variable? From a theoretical point of view we do not expect this behavior, since the gender discrepancy in the outcome is fully explained by studyfield. We deliberately constructed the dataset this way.\n",
    "\n",
    "We must be aware there might be more complex structures in the data, which are not found by the logistic regression. Logistic regression is great in detecting linear relationships, but performs poor when the relationships between variables become more complex. Although the addition of the appropriate interaction terms or the collection of more data might (partly) solve this issue, it is good to realize patterns are not always detected by an algorithm, even when they are perfectly constructed as in our case study. \n",
    "\n",
    "Even more important; in reality it is naïve to assume the relationship between Gender and the outcome is explained by only one variable. There might be many more confounding variables that have both correlation with gender and the outcome and it is hard to know whether you fully specified the model. The problem can get even worse when the labeling itself was unfair. This results in a so-called ‘label bias’. Imagine our recruiters were biased towards male candidates, causing them to favor men over women, even when they were equal in competences. It is safe to say this happens in reality, consider the following Dutch news articles that report men are much more likely to be contacted by a recruiter than women:\n",
    "•\thttps://www.nu.nl/werk/6008723/recruiters-benaderen-vrouwen-minder-vaak-voor-werk-dan-mannen.html\n",
    "•\thttps://nos.nl/artikel/2308971-seksediscriminatie-door-recruiters-mannen-vaker-benaderd-dan-vrouwen.html\n",
    "\n",
    "Regardless of the possible reasons, our model is unfair. And now our model thinks women are, by definition, less suitable than men. And we can’t blame our artificial friend. It simply detected a certain pattern in the historical data and continued this line.\n",
    "\n",
    "This raises the need for an algorithmic risk assessment, which checks for potential unfairness in your algorithm. So, let’s see how we can measure unfairness."
   ]
  },
  {
   "cell_type": "markdown",
   "metadata": {},
   "source": [
    "##### Measuring unfairness\n",
    "\n",
    "Many fairness metrics exist to evaluate bias and unfairness of algorithms. However, there is no consensus on \" the best\" fairness metric. Considering that for this case study we generated data, we can compare our AI's predictions to the 'ground truth', which provides us all information about errors (and performance) made among subgroups. This can be done by assembling a confusion matrix for each subgroup and calculate commonly used metrics such as false positive rate, false negative rate, false omission rate and so forth. In specific, we will focus on four fairness metrics:\n",
    "- __Difference in means__ <br>\n",
    "  Denotes the difference between the probability for a male to be selected and the probability for a female to be selected.\n",
    "  \n",
    "- __Disparate Impact__ <br>\n",
    "  Probability of one class to be selected divided by the probability for the other class to be selected\n",
    "  \n",
    "- __False positive rate__ <br>\n",
    "  Ratio of false positive ratio's among protected classes\n",
    "  \n",
    "- __False negative rate__ <br>\n",
    "  Ratio of false negative ratio's among protected classes\n",
    "  \n",
    " \n",
    " When the model is constructed and you have your predictions, the Aequitas is a great toolkit to audit your model for unfairness. In the dataset of this case study there are two variables that entail protected classes; ethnicity and gender. By assembling a confusion matrix for each subgroup, we can evaluate metrics among them. The Aequitas package requires specific column names. For the prediction it expects the column name to be 'score', while the 'Target' should be called 'label_value'. \n",
    "\n",
    "Let's compare some metrics among the protected classes.\n"
   ]
  },
  {
   "cell_type": "code",
   "execution_count": 19,
   "metadata": {},
   "outputs": [
    {
     "name": "stdout",
     "output_type": "stream",
     "text": [
      "model_id, score_thresholds 1 {'rank_abs': [423]}\n",
      "get_disparity_predefined_group()\n"
     ]
    },
    {
     "data": {
      "text/plain": [
       "Text(0.5, 1.0, 'PPR')"
      ]
     },
     "execution_count": 19,
     "metadata": {},
     "output_type": "execute_result"
    },
    {
     "data": {
      "image/png": "[encoded data removed]",
      "text/plain": [
       "<Figure size 720x360 with 1 Axes>"
      ]
     },
     "metadata": {
      "needs_background": "light"
     },
     "output_type": "display_data"
    },
    {
     "data": {
      "image/png": "[encoded data removed]",
      "text/plain": [
       "<Figure size 720x360 with 1 Axes>"
      ]
     },
     "metadata": {
      "needs_background": "light"
     },
     "output_type": "display_data"
    },
    {
     "data": {
      "image/png": "[encoded data removed]",
      "text/plain": [
       "<Figure size 720x360 with 1 Axes>"
      ]
     },
     "metadata": {
      "needs_background": "light"
     },
     "output_type": "display_data"
    }
   ],
   "source": [
    "df_aequitas = pd.concat([X_test[['Gender', 'Ethnicity']],\n",
    "                         y_test,\n",
    "                         pd.DataFrame(y_pred, index=X_test.index)],\n",
    "                        axis=1, sort=False)\n",
    "df_aequitas.rename(columns={'Target': 'label_value',\n",
    "                            0: 'score'}, inplace=True)\n",
    "\n",
    "df_aequitas[df_aequitas.columns.difference(['label_value', 'score'])] = df_aequitas[\n",
    "    df_aequitas.columns.difference(['label_value', 'score'])].astype(str)\n",
    "\n",
    "g = Group()\n",
    "xtab, _ = g.get_crosstabs(df_aequitas)\n",
    "absolute_metrics = g.list_absolute_metrics(xtab)\n",
    "\n",
    "b = Bias()\n",
    "bdf = b.get_disparity_predefined_groups(xtab, original_df=df_aequitas,\n",
    "                                        ref_groups_dict={'Gender': 'F', 'Ethnicity': 'White'}, alpha=0.05,\n",
    "                                        mask_significance=True)\n",
    "f = Fairness()\n",
    "fdf = f.get_group_value_fairness(bdf)\n",
    "aqp = Plot()\n",
    "\n",
    "aqp.plot_fairness_group(fdf, group_metric='fnr')\n",
    "plt.title('FNR')\n",
    "aqp.plot_fairness_group(fdf, group_metric='fpr')\n",
    "plt.title('FPR')\n",
    "aqp.plot_fairness_group(fdf, group_metric='ppr')\n",
    "plt.title('PPR')"
   ]
  },
  {
   "cell_type": "markdown",
   "metadata": {},
   "source": [
    "How to interpret these numbers? First look at the following definitions:\n",
    "- False Negative: the model predicted the candidate was not contacted by the recruiter, while he/she was\n",
    "- False Positive: the model predicted the candidate was contacted by the recruiter, while he/she was not\n",
    "\n",
    "Thus, when a candidate was selected for an interview by a recruiter, our AI incorrectly recommended not selecting these candidates 63% of the cases when the candidate was a women. In contrast, our AI only ignored good male candidates 20% of the time.\n",
    "The opposite holds true when candidates had NOT been invited for an interview but our AI incorrectly recommended the candidate should be invited for an interview. For the female students our AI incorrectly recommended 13% of female candidates to be invited for an interview when it shouldn't have, whilst it recommended inviting 45% of poor male candidates. This is very informative, as it reflects the errors we are making for each subgroup.\n",
    "Apparently, the algorithm predicts for a lot of women they are not suitable, while they actually were. On the other hand, the algorithm predicts for a large group of male candidates they are suitable, while they actually are not. This indicates the model learns to favor certain subgroups. <br>\n",
    "\n",
    "The ppr and difference in means are more generalized fairness metrics, since they only consider how much the outcome differs between the protected classes. We see that there is 78% probability for a man to predict he is suitable for the job, while women only have 22%. \n",
    "The rate of this metric denotes Disparate Impact, a very common tool to measure unfairness in model predictions.\n",
    "\n",
    "All confusion matrix metrics that can be used for fairness analysis are listed below. "
   ]
  },
  {
   "cell_type": "code",
   "execution_count": 20,
   "metadata": {},
   "outputs": [
    {
     "data": {
      "text/html": [
       "<div>\n",
       "<style scoped>\n",
       "    .dataframe tbody tr th:only-of-type {\n",
       "        vertical-align: middle;\n",
       "    }\n",
       "\n",
       "    .dataframe tbody tr th {\n",
       "        vertical-align: top;\n",
       "    }\n",
       "\n",
       "    .dataframe thead th {\n",
       "        text-align: right;\n",
       "    }\n",
       "</style>\n",
       "<table border=\"1\" class=\"dataframe\">\n",
       "  <thead>\n",
       "    <tr style=\"text-align: right;\">\n",
       "      <th></th>\n",
       "      <th>attribute_name</th>\n",
       "      <th>attribute_value</th>\n",
       "      <th>tpr</th>\n",
       "      <th>tnr</th>\n",
       "      <th>for</th>\n",
       "      <th>fdr</th>\n",
       "      <th>fpr</th>\n",
       "      <th>fnr</th>\n",
       "      <th>npv</th>\n",
       "      <th>precision</th>\n",
       "      <th>ppr</th>\n",
       "      <th>pprev</th>\n",
       "      <th>prev</th>\n",
       "    </tr>\n",
       "  </thead>\n",
       "  <tbody>\n",
       "    <tr>\n",
       "      <td>0</td>\n",
       "      <td>Gender</td>\n",
       "      <td>F</td>\n",
       "      <td>0.37</td>\n",
       "      <td>0.87</td>\n",
       "      <td>0.09</td>\n",
       "      <td>0.73</td>\n",
       "      <td>0.13</td>\n",
       "      <td>0.63</td>\n",
       "      <td>0.91</td>\n",
       "      <td>0.27</td>\n",
       "      <td>0.22</td>\n",
       "      <td>0.16</td>\n",
       "      <td>0.12</td>\n",
       "    </tr>\n",
       "    <tr>\n",
       "      <td>1</td>\n",
       "      <td>Gender</td>\n",
       "      <td>M</td>\n",
       "      <td>0.80</td>\n",
       "      <td>0.55</td>\n",
       "      <td>0.09</td>\n",
       "      <td>0.68</td>\n",
       "      <td>0.45</td>\n",
       "      <td>0.20</td>\n",
       "      <td>0.91</td>\n",
       "      <td>0.32</td>\n",
       "      <td>0.78</td>\n",
       "      <td>0.53</td>\n",
       "      <td>0.21</td>\n",
       "    </tr>\n",
       "    <tr>\n",
       "      <td>2</td>\n",
       "      <td>Ethnicity</td>\n",
       "      <td>Asian</td>\n",
       "      <td>0.70</td>\n",
       "      <td>0.66</td>\n",
       "      <td>0.08</td>\n",
       "      <td>0.72</td>\n",
       "      <td>0.34</td>\n",
       "      <td>0.30</td>\n",
       "      <td>0.92</td>\n",
       "      <td>0.28</td>\n",
       "      <td>0.33</td>\n",
       "      <td>0.40</td>\n",
       "      <td>0.16</td>\n",
       "    </tr>\n",
       "    <tr>\n",
       "      <td>3</td>\n",
       "      <td>Ethnicity</td>\n",
       "      <td>Black</td>\n",
       "      <td>0.72</td>\n",
       "      <td>0.65</td>\n",
       "      <td>0.08</td>\n",
       "      <td>0.69</td>\n",
       "      <td>0.35</td>\n",
       "      <td>0.28</td>\n",
       "      <td>0.92</td>\n",
       "      <td>0.31</td>\n",
       "      <td>0.36</td>\n",
       "      <td>0.42</td>\n",
       "      <td>0.18</td>\n",
       "    </tr>\n",
       "    <tr>\n",
       "      <td>4</td>\n",
       "      <td>Ethnicity</td>\n",
       "      <td>White</td>\n",
       "      <td>0.57</td>\n",
       "      <td>0.78</td>\n",
       "      <td>0.10</td>\n",
       "      <td>0.66</td>\n",
       "      <td>0.22</td>\n",
       "      <td>0.43</td>\n",
       "      <td>0.90</td>\n",
       "      <td>0.34</td>\n",
       "      <td>0.31</td>\n",
       "      <td>0.27</td>\n",
       "      <td>0.16</td>\n",
       "    </tr>\n",
       "  </tbody>\n",
       "</table>\n",
       "</div>"
      ],
      "text/plain": [
       "  attribute_name attribute_value   tpr   tnr   for   fdr   fpr   fnr   npv  \\\n",
       "0         Gender               F  0.37  0.87  0.09  0.73  0.13  0.63  0.91   \n",
       "1         Gender               M  0.80  0.55  0.09  0.68  0.45  0.20  0.91   \n",
       "2      Ethnicity           Asian  0.70  0.66  0.08  0.72  0.34  0.30  0.92   \n",
       "3      Ethnicity           Black  0.72  0.65  0.08  0.69  0.35  0.28  0.92   \n",
       "4      Ethnicity           White  0.57  0.78  0.10  0.66  0.22  0.43  0.90   \n",
       "\n",
       "   precision   ppr  pprev  prev  \n",
       "0       0.27  0.22   0.16  0.12  \n",
       "1       0.32  0.78   0.53  0.21  \n",
       "2       0.28  0.33   0.40  0.16  \n",
       "3       0.31  0.36   0.42  0.18  \n",
       "4       0.34  0.31   0.27  0.16  "
      ]
     },
     "execution_count": 20,
     "metadata": {},
     "output_type": "execute_result"
    }
   ],
   "source": [
    "xtab[['attribute_name', 'attribute_value'] + absolute_metrics].round(2)"
   ]
  },
  {
   "cell_type": "markdown",
   "metadata": {},
   "source": [
    "These numbers can be used to calculate the parities. A parity is simply the ratio of two metrics within the confusion matrix. As can be seen in the following chunk of code, the False Negative Ratio Parity is around 3.15. This indicates that we are 3.15 times more likely to have a false negative for a female candidate than for a male candidate. Remember a false negative in this case means we predicted the candidate not to be contacted by the recruiter, while he/she actually was invited for an interview. Apparently, the model is much more likely to make mistakes for suitable women than for suitable men. \n",
    "Similarly, our model is 3.4 times more likely to predict  male compared to female candidates to be invited for an interview when they were not.\n",
    "In general, the Disparate Impact tells us we are 3 times more likely to say a candidate is selected when facing a male candidate than if she were a woman.\n",
    "\n",
    "As a rule of thumb we can say there is a bias among your protected classes if the value of the parity goes below 0.5 or above 1.5. Based on this, we can definitely confirm we are having a discriminatory model here."
   ]
  },
  {
   "cell_type": "code",
   "execution_count": 21,
   "metadata": {},
   "outputs": [
    {
     "name": "stdout",
     "output_type": "stream",
     "text": [
      "False negative Ratio Parity: 0.651\n",
      "False positive Ratio Parity: 0.629\n",
      "Disparate impact: 0.861\n"
     ]
    }
   ],
   "source": [
    "fnr_f = xtab[['attribute_name', 'attribute_value'] + absolute_metrics].round(2)['fnr'][3]\n",
    "fnr_m = xtab[['attribute_name', 'attribute_value'] + absolute_metrics].round(2)['fnr'][4]\n",
    "print(\"False negative Ratio Parity:\", round(fnr_f/fnr_m,3))\n",
    "\n",
    "fpr_f = xtab[['attribute_name', 'attribute_value'] + absolute_metrics].round(2)['fpr'][3]\n",
    "fpr_m = xtab[['attribute_name', 'attribute_value'] + absolute_metrics].round(2)['fpr'][4]\n",
    "print(\"False positive Ratio Parity:\", round(fpr_m/fpr_f,3))\n",
    "\n",
    "ppr_f = xtab[['attribute_name', 'attribute_value'] + absolute_metrics].round(2)['ppr'][3]\n",
    "ppr_m = xtab[['attribute_name', 'attribute_value'] + absolute_metrics].round(2)['ppr'][4]\n",
    "print(\"Disparate impact:\", round(ppr_m/ppr_f,3))"
   ]
  },
  {
   "cell_type": "markdown",
   "metadata": {},
   "source": [
    "##### Mitigating Unfairness\n",
    "\n",
    "To calculate the difference in means we are using a different package (Aif360). This AI Fairness toolkit contains techniques developed by the research community to help detect and mitigate bias. In this case we use the difference in means to reweigh the data. This won't change the training data at all. Rather, it gives every training row a weight, such that the mean difference in outcomes is zero. In this case this boils down to:\n",
    "- Examples of men who were contacted will be downweighted\n",
    "- Examples of men who were not contacted will be upweighted\n",
    "- Examples of women who were contacted are upweighted\n",
    "- Examples of women who were not contacted will be downweighted"
   ]
  },
  {
   "cell_type": "code",
   "execution_count": 22,
   "metadata": {},
   "outputs": [
    {
     "name": "stdout",
     "output_type": "stream",
     "text": [
      "Difference in mean outcomes between unprivileged and privileged groups = -0.110713\n"
     ]
    }
   ],
   "source": [
    "from aif360.datasets import BinaryLabelDataset\n",
    "df_aif  = BinaryLabelDataset(df=pd.concat((X_train_logit, y_train_logit), axis = 1),\n",
    "                                  label_names=['Target'],\n",
    "                                  protected_attribute_names=['Gender_F'],\n",
    "                                  favorable_label=1,\n",
    "                                  unfavorable_label=0)\n",
    "\n",
    "privileged_groups = [{'Gender_F': 0}]\n",
    "unprivileged_groups = [{'Gender_F': 1}]\n",
    "\n",
    "metric_orig_train = BinaryLabelDatasetMetric(df_aif, \n",
    "                                             unprivileged_groups=unprivileged_groups,\n",
    "                                             privileged_groups=privileged_groups)\n",
    "print(\"Difference in mean outcomes between unprivileged and privileged groups = %f\" % metric_orig_train.mean_difference())\n",
    "\n",
    "RW = Reweighing(unprivileged_groups=unprivileged_groups,\n",
    "                privileged_groups=privileged_groups)"
   ]
  },
  {
   "cell_type": "code",
   "execution_count": 23,
   "metadata": {},
   "outputs": [],
   "source": [
    "RW = Reweighing(unprivileged_groups=unprivileged_groups,\n",
    "                privileged_groups=privileged_groups)"
   ]
  },
  {
   "cell_type": "markdown",
   "metadata": {},
   "source": [
    "After reweighing we can call the fit and transform methods to perform the transformation, producing a newly transformed training dataset. We can also extract the weights and compare it with the outcome to validate whether the weighing is succeeded. We see that male students are getting downweighted (+/- 0.77) when they were a good candidate and upweighted when they were a poor candidate, whilst female candidates are upweighted (+/- 1.47) when they were good candidates and downweighted when they were poor candidates."
   ]
  },
  {
   "cell_type": "code",
   "execution_count": 24,
   "metadata": {},
   "outputs": [
    {
     "data": {
      "text/html": [
       "<div>\n",
       "<style scoped>\n",
       "    .dataframe tbody tr th:only-of-type {\n",
       "        vertical-align: middle;\n",
       "    }\n",
       "\n",
       "    .dataframe tbody tr th {\n",
       "        vertical-align: top;\n",
       "    }\n",
       "\n",
       "    .dataframe thead th {\n",
       "        text-align: right;\n",
       "    }\n",
       "</style>\n",
       "<table border=\"1\" class=\"dataframe\">\n",
       "  <thead>\n",
       "    <tr style=\"text-align: right;\">\n",
       "      <th></th>\n",
       "      <th>Female</th>\n",
       "      <th>Target</th>\n",
       "      <th>weight</th>\n",
       "    </tr>\n",
       "  </thead>\n",
       "  <tbody>\n",
       "    <tr>\n",
       "      <td>725</td>\n",
       "      <td>1</td>\n",
       "      <td>0</td>\n",
       "      <td>0.934701</td>\n",
       "    </tr>\n",
       "    <tr>\n",
       "      <td>218</td>\n",
       "      <td>1</td>\n",
       "      <td>0</td>\n",
       "      <td>0.934701</td>\n",
       "    </tr>\n",
       "    <tr>\n",
       "      <td>620</td>\n",
       "      <td>0</td>\n",
       "      <td>1</td>\n",
       "      <td>0.770701</td>\n",
       "    </tr>\n",
       "    <tr>\n",
       "      <td>493</td>\n",
       "      <td>1</td>\n",
       "      <td>0</td>\n",
       "      <td>0.934701</td>\n",
       "    </tr>\n",
       "    <tr>\n",
       "      <td>1447</td>\n",
       "      <td>0</td>\n",
       "      <td>0</td>\n",
       "      <td>1.069591</td>\n",
       "    </tr>\n",
       "    <tr>\n",
       "      <td>...</td>\n",
       "      <td>...</td>\n",
       "      <td>...</td>\n",
       "      <td>...</td>\n",
       "    </tr>\n",
       "    <tr>\n",
       "      <td>1352</td>\n",
       "      <td>1</td>\n",
       "      <td>1</td>\n",
       "      <td>1.469413</td>\n",
       "    </tr>\n",
       "    <tr>\n",
       "      <td>268</td>\n",
       "      <td>1</td>\n",
       "      <td>0</td>\n",
       "      <td>0.934701</td>\n",
       "    </tr>\n",
       "    <tr>\n",
       "      <td>193</td>\n",
       "      <td>1</td>\n",
       "      <td>0</td>\n",
       "      <td>0.934701</td>\n",
       "    </tr>\n",
       "    <tr>\n",
       "      <td>488</td>\n",
       "      <td>0</td>\n",
       "      <td>0</td>\n",
       "      <td>1.069591</td>\n",
       "    </tr>\n",
       "    <tr>\n",
       "      <td>38</td>\n",
       "      <td>1</td>\n",
       "      <td>0</td>\n",
       "      <td>0.934701</td>\n",
       "    </tr>\n",
       "  </tbody>\n",
       "</table>\n",
       "<p>100 rows × 3 columns</p>\n",
       "</div>"
      ],
      "text/plain": [
       "      Female  Target    weight\n",
       "725        1       0  0.934701\n",
       "218        1       0  0.934701\n",
       "620        0       1  0.770701\n",
       "493        1       0  0.934701\n",
       "1447       0       0  1.069591\n",
       "...      ...     ...       ...\n",
       "1352       1       1  1.469413\n",
       "268        1       0  0.934701\n",
       "193        1       0  0.934701\n",
       "488        0       0  1.069591\n",
       "38         1       0  0.934701\n",
       "\n",
       "[100 rows x 3 columns]"
      ]
     },
     "execution_count": 24,
     "metadata": {},
     "output_type": "execute_result"
    }
   ],
   "source": [
    "dataset_transf_train = RW.fit_transform(df_aif)\n",
    "weights_gender = dataset_transf_train.instance_weights\n",
    "\n",
    "pd.DataFrame({'Female': X_train_logit['Gender_F'],\n",
    "              'Target': y_train,\n",
    "              'weight': weights_gender}).head(100)"
   ]
  },
  {
   "cell_type": "markdown",
   "metadata": {},
   "source": [
    "Now, we make new predictions."
   ]
  },
  {
   "cell_type": "code",
   "execution_count": 25,
   "metadata": {},
   "outputs": [
    {
     "name": "stdout",
     "output_type": "stream",
     "text": [
      "Accuracy of logistic regression classifier on test set: 0.69\n"
     ]
    },
    {
     "name": "stderr",
     "output_type": "stream",
     "text": [
      "C:\\Users\\Jasper Rouschop\\Anaconda3\\lib\\site-packages\\sklearn\\linear_model\\logistic.py:432: FutureWarning: Default solver will be changed to 'lbfgs' in 0.22. Specify a solver to silence this warning.\n",
      "  FutureWarning)\n"
     ]
    }
   ],
   "source": [
    "logreg = LogisticRegression(class_weight = weights)\n",
    "logreg.fit(X_train_logit, y_train_logit,\n",
    "          sample_weight = weights_gender)\n",
    "y_pred = logreg.predict(X_test_logit)\n",
    "print('Accuracy of logistic regression classifier on test set: {:.2f}'.format(logreg.score(X_test_logit, y_test_logit)))"
   ]
  },
  {
   "cell_type": "markdown",
   "metadata": {},
   "source": [
    "##### Reevaluating Unfairness\n",
    "\n",
    "When the new predictions are obtained, we use the Aequitas toolkit again to audit the model for discrimination and bias. Again, there are two variables that reflect protected classes; Gender and Ethnicity. Let's look at the mistakes we are making now to see whether we succeeded to mitigate the unfairness. In order to do so, we will look how the fnr, fpr and ppr have changed when the data was reweighted setting the difference in means equal to zero.\n",
    "\n",
    "Let's compare some metrics among the protected classes."
   ]
  },
  {
   "cell_type": "code",
   "execution_count": 26,
   "metadata": {},
   "outputs": [
    {
     "name": "stdout",
     "output_type": "stream",
     "text": [
      "model_id, score_thresholds 1 {'rank_abs': [426]}\n",
      "get_disparity_predefined_group()\n"
     ]
    },
    {
     "data": {
      "text/plain": [
       "Text(0.5, 1.0, 'PPR')"
      ]
     },
     "execution_count": 26,
     "metadata": {},
     "output_type": "execute_result"
    },
    {
     "data": {
      "image/png": "[encoded data removed]",
      "text/plain": [
       "<Figure size 720x360 with 1 Axes>"
      ]
     },
     "metadata": {
      "needs_background": "light"
     },
     "output_type": "display_data"
    },
    {
     "data": {
      "image/png": "[encoded data removed]",
      "text/plain": [
       "<Figure size 720x360 with 1 Axes>"
      ]
     },
     "metadata": {
      "needs_background": "light"
     },
     "output_type": "display_data"
    },
    {
     "data": {
      "image/png": "[encoded data removed]",
      "text/plain": [
       "<Figure size 720x360 with 1 Axes>"
      ]
     },
     "metadata": {
      "needs_background": "light"
     },
     "output_type": "display_data"
    }
   ],
   "source": [
    "df_aequitas = pd.concat([X_test[['Gender', 'Ethnicity']], \n",
    "                         y_test,\n",
    "                         pd.DataFrame(y_pred, index = X_test.index)],\n",
    "                        axis = 1, sort = False)\n",
    "df_aequitas.rename(columns = {'Target': 'label_value',\n",
    "                              0: 'score'}, inplace = True)\n",
    "\n",
    "df_aequitas[df_aequitas.columns.difference(['label_value', 'score'])] = df_aequitas[df_aequitas.columns.difference(['label_value', 'score'])].astype(str)\n",
    "\n",
    "g = Group()\n",
    "xtab, _ = g.get_crosstabs(df_aequitas)\n",
    "absolute_metrics = g.list_absolute_metrics(xtab)\n",
    "\n",
    "b= Bias()\n",
    "bdf = b.get_disparity_predefined_groups(xtab, original_df = df_aequitas, ref_groups_dict = {'Gender':'F', 'Ethnicity':'White'}, alpha = 0.05, mask_significance = True)\n",
    "f = Fairness()\n",
    "fdf = f.get_group_value_fairness(bdf)\n",
    "aqp = Plot()\n",
    "\n",
    "aqp.plot_fairness_group(fdf, group_metric='fnr')\n",
    "plt.title('FNR')\n",
    "aqp.plot_fairness_group(fdf, group_metric='fpr')\n",
    "plt.title('FPR')\n",
    "aqp.plot_fairness_group(fdf, group_metric='ppr')\n",
    "plt.title('PPR')"
   ]
  },
  {
   "cell_type": "markdown",
   "metadata": {},
   "source": [
    "According to the FNR, 49% of the female candidates that were not selected, were actually found suitable candidates. Still not that good, but it is better than the earlier found 60%. On the other hand, we pay the price by making more mistakes with male candidates. After reweighing, 28% of the suitable mnale candidates were rejected, while this was only 20%.\n",
    "Nevertheless, the errors we are making on both protected subgroups has somewhat converged, making the model less unfair. Considering this metric we managed to mitigate the bias, but not fully diminish it. <br>\n",
    "On the other hand, when the  fpr is considered, we see that we managed to create a fair model. Before reweighing there was 45% probability our AI would incorrectly recommend a male candidate who in fact was not invited.\n",
    "For women this probabillity was 15%. After reweighing the data, these probabilities have converged to 30% for men and 29% for women.\n",
    "\n",
    "All confusion matrix metrics are listed below."
   ]
  },
  {
   "cell_type": "code",
   "execution_count": 27,
   "metadata": {},
   "outputs": [
    {
     "data": {
      "text/html": [
       "<div>\n",
       "<style scoped>\n",
       "    .dataframe tbody tr th:only-of-type {\n",
       "        vertical-align: middle;\n",
       "    }\n",
       "\n",
       "    .dataframe tbody tr th {\n",
       "        vertical-align: top;\n",
       "    }\n",
       "\n",
       "    .dataframe thead th {\n",
       "        text-align: right;\n",
       "    }\n",
       "</style>\n",
       "<table border=\"1\" class=\"dataframe\">\n",
       "  <thead>\n",
       "    <tr style=\"text-align: right;\">\n",
       "      <th></th>\n",
       "      <th>attribute_name</th>\n",
       "      <th>attribute_value</th>\n",
       "      <th>tpr</th>\n",
       "      <th>tnr</th>\n",
       "      <th>for</th>\n",
       "      <th>fdr</th>\n",
       "      <th>fpr</th>\n",
       "      <th>fnr</th>\n",
       "      <th>npv</th>\n",
       "      <th>precision</th>\n",
       "      <th>ppr</th>\n",
       "      <th>pprev</th>\n",
       "      <th>prev</th>\n",
       "    </tr>\n",
       "  </thead>\n",
       "  <tbody>\n",
       "    <tr>\n",
       "      <td>0</td>\n",
       "      <td>Gender</td>\n",
       "      <td>F</td>\n",
       "      <td>0.51</td>\n",
       "      <td>0.71</td>\n",
       "      <td>0.09</td>\n",
       "      <td>0.81</td>\n",
       "      <td>0.29</td>\n",
       "      <td>0.49</td>\n",
       "      <td>0.91</td>\n",
       "      <td>0.19</td>\n",
       "      <td>0.43</td>\n",
       "      <td>0.32</td>\n",
       "      <td>0.12</td>\n",
       "    </tr>\n",
       "    <tr>\n",
       "      <td>1</td>\n",
       "      <td>Gender</td>\n",
       "      <td>M</td>\n",
       "      <td>0.72</td>\n",
       "      <td>0.70</td>\n",
       "      <td>0.10</td>\n",
       "      <td>0.61</td>\n",
       "      <td>0.30</td>\n",
       "      <td>0.28</td>\n",
       "      <td>0.90</td>\n",
       "      <td>0.39</td>\n",
       "      <td>0.57</td>\n",
       "      <td>0.39</td>\n",
       "      <td>0.21</td>\n",
       "    </tr>\n",
       "    <tr>\n",
       "      <td>2</td>\n",
       "      <td>Ethnicity</td>\n",
       "      <td>Asian</td>\n",
       "      <td>0.66</td>\n",
       "      <td>0.70</td>\n",
       "      <td>0.09</td>\n",
       "      <td>0.71</td>\n",
       "      <td>0.30</td>\n",
       "      <td>0.34</td>\n",
       "      <td>0.91</td>\n",
       "      <td>0.29</td>\n",
       "      <td>0.30</td>\n",
       "      <td>0.36</td>\n",
       "      <td>0.16</td>\n",
       "    </tr>\n",
       "    <tr>\n",
       "      <td>3</td>\n",
       "      <td>Ethnicity</td>\n",
       "      <td>Black</td>\n",
       "      <td>0.77</td>\n",
       "      <td>0.61</td>\n",
       "      <td>0.08</td>\n",
       "      <td>0.70</td>\n",
       "      <td>0.39</td>\n",
       "      <td>0.23</td>\n",
       "      <td>0.92</td>\n",
       "      <td>0.30</td>\n",
       "      <td>0.39</td>\n",
       "      <td>0.46</td>\n",
       "      <td>0.18</td>\n",
       "    </tr>\n",
       "    <tr>\n",
       "      <td>4</td>\n",
       "      <td>Ethnicity</td>\n",
       "      <td>White</td>\n",
       "      <td>0.54</td>\n",
       "      <td>0.78</td>\n",
       "      <td>0.10</td>\n",
       "      <td>0.68</td>\n",
       "      <td>0.22</td>\n",
       "      <td>0.46</td>\n",
       "      <td>0.90</td>\n",
       "      <td>0.32</td>\n",
       "      <td>0.31</td>\n",
       "      <td>0.27</td>\n",
       "      <td>0.16</td>\n",
       "    </tr>\n",
       "  </tbody>\n",
       "</table>\n",
       "</div>"
      ],
      "text/plain": [
       "  attribute_name attribute_value   tpr   tnr   for   fdr   fpr   fnr   npv  \\\n",
       "0         Gender               F  0.51  0.71  0.09  0.81  0.29  0.49  0.91   \n",
       "1         Gender               M  0.72  0.70  0.10  0.61  0.30  0.28  0.90   \n",
       "2      Ethnicity           Asian  0.66  0.70  0.09  0.71  0.30  0.34  0.91   \n",
       "3      Ethnicity           Black  0.77  0.61  0.08  0.70  0.39  0.23  0.92   \n",
       "4      Ethnicity           White  0.54  0.78  0.10  0.68  0.22  0.46  0.90   \n",
       "\n",
       "   precision   ppr  pprev  prev  \n",
       "0       0.19  0.43   0.32  0.12  \n",
       "1       0.39  0.57   0.39  0.21  \n",
       "2       0.29  0.30   0.36  0.16  \n",
       "3       0.30  0.39   0.46  0.18  \n",
       "4       0.32  0.31   0.27  0.16  "
      ]
     },
     "execution_count": 27,
     "metadata": {},
     "output_type": "execute_result"
    }
   ],
   "source": [
    "xtab[['attribute_name', 'attribute_value'] + absolute_metrics].round(2)"
   ]
  },
  {
   "cell_type": "markdown",
   "metadata": {},
   "source": [
    "The numbers from this table can be used to calculate the parities."
   ]
  },
  {
   "cell_type": "code",
   "execution_count": 28,
   "metadata": {},
   "outputs": [
    {
     "name": "stdout",
     "output_type": "stream",
     "text": [
      "False negative Ratio Parity: 0.5\n",
      "False positive Ratio Parity: 0.564\n",
      "Disparate impact: 0.795\n"
     ]
    }
   ],
   "source": [
    "fnr_f = xtab[['attribute_name', 'attribute_value'] + absolute_metrics].round(2)['fnr'][3]\n",
    "fnr_m = xtab[['attribute_name', 'attribute_value'] + absolute_metrics].round(2)['fnr'][4]\n",
    "print(\"False negative Ratio Parity:\", round(fnr_f/fnr_m,3))\n",
    "\n",
    "fpr_f = xtab[['attribute_name', 'attribute_value'] + absolute_metrics].round(2)['fpr'][3]\n",
    "fpr_m = xtab[['attribute_name', 'attribute_value'] + absolute_metrics].round(2)['fpr'][4]\n",
    "print(\"False positive Ratio Parity:\", round(fpr_m/fpr_f,3))\n",
    "\n",
    "ppr_f = xtab[['attribute_name', 'attribute_value'] + absolute_metrics].round(2)['ppr'][3]\n",
    "ppr_m = xtab[['attribute_name', 'attribute_value'] + absolute_metrics].round(2)['ppr'][4]\n",
    "print(\"Disparate impact:\", round(ppr_m/ppr_f,3))"
   ]
  },
  {
   "cell_type": "markdown",
   "metadata": {},
   "source": [
    "Considering the rule of thumb a parity should be between 0.5 and 1.5, we can say reweighing made this model reasonably fair. The disparate impact still shows that men are somewhat favored over women, but the difference is not much reduced. Based on the false negative ratio parity we can say that we managed to mitigate the bias, but the model is still unfair. When the candidate was actually targeted by the recruiters, we still make more mistakes with women than with men. Although the unfairness has somewhat mitigated, our AI-driven recruitment bot is still less likely to invite suitable female candidates than suitable male candidates.\n",
    "\n",
    "Luckily at VIQTOR DAVIS we can use many other methods to further mitigate unfairness and work towards responsible AI solutions."
   ]
  },
  {
   "cell_type": "markdown",
   "metadata": {},
   "source": [
    "### Conclusion\n",
    "\n",
    "Machine learning is an extremely powerful tool. And with great power comes great responsibility. This means that we have a responsibility to create algorithms that are fair. Machine learning is, by nature, based on the history of our societies.\n",
    "And we cannot expect machine learning to solve all our human prejudices and biased datasets. If we provide biased input, our algorithms will adopt this behavior and provide unfair output. However, beyond such label- or sample bias, unfairness may unwittingly and unwillingly creep into AI models as we show in our case study here. We therefore need to actively assess and mitigate the unfairness of our models. \n",
    "Especially when these (biased) models are involved in important decision-making processes for certain protected classes (like gender, ethnicity or religion).\n",
    "\n",
    "In this case study we applied reweighing, a preprocessing algorithm to mitigate model unfairness. \n",
    "There is no such thing as the \"best\" bias mitigation strategy and we usually implement multiple. As long as you keep evaluating your (multiple) fairness metrics, feel free to try different strategies!\n"
   ]
  }
 ],
 "metadata": {
  "kernelspec": {
   "display_name": "Python 3",
   "language": "python",
   "name": "python3"
  },
  "language_info": {
   "codemirror_mode": {
    "name": "ipython",
    "version": 3
   },
   "file_extension": ".py",
   "mimetype": "text/x-python",
   "name": "python",
   "nbconvert_exporter": "python",
   "pygments_lexer": "ipython3",
   "version": "3.7.4"
  }
 },
 "nbformat": 4,
 "nbformat_minor": 2
}
